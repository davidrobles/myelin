{
 "cells": [
  {
   "cell_type": "code",
   "execution_count": 1,
   "metadata": {
    "scrolled": false
   },
   "outputs": [
    {
     "name": "stdout",
     "output_type": "stream",
     "text": [
      "Episode 0\n"
     ]
    },
    {
     "data": {
      "text/plain": [
       "<Figure size 600x600 with 2 Axes>"
      ]
     },
     "metadata": {},
     "output_type": "display_data"
    },
    {
     "name": "stdout",
     "output_type": "stream",
     "text": [
      "Episode 10\n"
     ]
    },
    {
     "data": {
      "text/plain": [
       "<Figure size 600x600 with 2 Axes>"
      ]
     },
     "metadata": {},
     "output_type": "display_data"
    },
    {
     "name": "stdout",
     "output_type": "stream",
     "text": [
      "Episode 20\n"
     ]
    },
    {
     "data": {
      "text/plain": [
       "<Figure size 600x600 with 2 Axes>"
      ]
     },
     "metadata": {},
     "output_type": "display_data"
    },
    {
     "name": "stdout",
     "output_type": "stream",
     "text": [
      "Episode 30\n"
     ]
    },
    {
     "data": {
      "text/plain": [
       "<Figure size 600x600 with 2 Axes>"
      ]
     },
     "metadata": {},
     "output_type": "display_data"
    },
    {
     "name": "stdout",
     "output_type": "stream",
     "text": [
      "Episode 40\n"
     ]
    },
    {
     "data": {
      "text/plain": [
       "<Figure size 600x600 with 2 Axes>"
      ]
     },
     "metadata": {},
     "output_type": "display_data"
    },
    {
     "name": "stdout",
     "output_type": "stream",
     "text": [
      "Episode 50\n"
     ]
    },
    {
     "data": {
      "text/plain": [
       "<Figure size 600x600 with 2 Axes>"
      ]
     },
     "metadata": {},
     "output_type": "display_data"
    },
    {
     "name": "stdout",
     "output_type": "stream",
     "text": [
      "Episode 60\n"
     ]
    },
    {
     "data": {
      "text/plain": [
       "<Figure size 600x600 with 2 Axes>"
      ]
     },
     "metadata": {},
     "output_type": "display_data"
    },
    {
     "name": "stdout",
     "output_type": "stream",
     "text": [
      "Episode 70\n"
     ]
    },
    {
     "data": {
      "text/plain": [
       "<Figure size 600x600 with 2 Axes>"
      ]
     },
     "metadata": {},
     "output_type": "display_data"
    },
    {
     "name": "stdout",
     "output_type": "stream",
     "text": [
      "Episode 80\n"
     ]
    },
    {
     "data": {
      "text/plain": [
       "<Figure size 600x600 with 2 Axes>"
      ]
     },
     "metadata": {},
     "output_type": "display_data"
    },
    {
     "name": "stdout",
     "output_type": "stream",
     "text": [
      "Episode 90\n"
     ]
    },
    {
     "data": {
      "text/plain": [
       "<Figure size 600x600 with 2 Axes>"
      ]
     },
     "metadata": {},
     "output_type": "display_data"
    },
    {
     "name": "stdout",
     "output_type": "stream",
     "text": [
      "Episode 100\n"
     ]
    },
    {
     "data": {
      "text/plain": [
       "<Figure size 600x600 with 2 Axes>"
      ]
     },
     "metadata": {},
     "output_type": "display_data"
    },
    {
     "name": "stdout",
     "output_type": "stream",
     "text": [
      "Episode 110\n"
     ]
    },
    {
     "data": {
      "text/plain": [
       "<Figure size 600x600 with 2 Axes>"
      ]
     },
     "metadata": {},
     "output_type": "display_data"
    },
    {
     "name": "stdout",
     "output_type": "stream",
     "text": [
      "Episode 120\n"
     ]
    },
    {
     "data": {
      "text/plain": [
       "<Figure size 600x600 with 2 Axes>"
      ]
     },
     "metadata": {},
     "output_type": "display_data"
    },
    {
     "name": "stdout",
     "output_type": "stream",
     "text": [
      "Episode 130\n"
     ]
    },
    {
     "data": {
      "text/plain": [
       "<Figure size 600x600 with 2 Axes>"
      ]
     },
     "metadata": {},
     "output_type": "display_data"
    },
    {
     "name": "stdout",
     "output_type": "stream",
     "text": [
      "Episode 140\n"
     ]
    },
    {
     "data": {
      "text/plain": [
       "<Figure size 600x600 with 2 Axes>"
      ]
     },
     "metadata": {},
     "output_type": "display_data"
    },
    {
     "name": "stdout",
     "output_type": "stream",
     "text": [
      "Episode 150\n"
     ]
    },
    {
     "data": {
      "text/plain": [
       "<Figure size 600x600 with 2 Axes>"
      ]
     },
     "metadata": {},
     "output_type": "display_data"
    },
    {
     "name": "stdout",
     "output_type": "stream",
     "text": [
      "Episode 160\n"
     ]
    },
    {
     "data": {
      "text/plain": [
       "<Figure size 600x600 with 2 Axes>"
      ]
     },
     "metadata": {},
     "output_type": "display_data"
    },
    {
     "name": "stdout",
     "output_type": "stream",
     "text": [
      "Episode 170\n"
     ]
    },
    {
     "data": {
      "text/plain": [
       "<Figure size 600x600 with 2 Axes>"
      ]
     },
     "metadata": {},
     "output_type": "display_data"
    },
    {
     "name": "stdout",
     "output_type": "stream",
     "text": [
      "Episode 180\n"
     ]
    },
    {
     "data": {
      "text/plain": [
       "<Figure size 600x600 with 2 Axes>"
      ]
     },
     "metadata": {},
     "output_type": "display_data"
    },
    {
     "name": "stdout",
     "output_type": "stream",
     "text": [
      "Episode 190\n"
     ]
    },
    {
     "data": {
      "text/plain": [
       "<Figure size 600x600 with 2 Axes>"
      ]
     },
     "metadata": {},
     "output_type": "display_data"
    },
    {
     "name": "stdout",
     "output_type": "stream",
     "text": [
      "Episode 200\n"
     ]
    },
    {
     "data": {
      "text/plain": [
       "<Figure size 600x600 with 2 Axes>"
      ]
     },
     "metadata": {},
     "output_type": "display_data"
    }
   ],
   "source": [
    "import sys\n",
    "sys.path.append('..')\n",
    "\n",
    "import matplotlib.pyplot as plt\n",
    "import numpy as np\n",
    "\n",
    "from myelin.agents import ExpectedSARSA\n",
    "from myelin.core import RLInteraction, MDPEnvironment\n",
    "from myelin.mdps import GridWorld\n",
    "from myelin.policies import RandomPolicy\n",
    "from myelin.utils import Callback\n",
    "\n",
    "ROWS = 20\n",
    "COLS = 20\n",
    "CELL_SIZE = 3\n",
    "\n",
    "mdp = GridWorld(ROWS, COLS)\n",
    "env = MDPEnvironment(mdp)\n",
    "policy = RandomPolicy(env.action_space)\n",
    "\n",
    "class GridWorldQFunction:\n",
    "    def __init__(self):\n",
    "        self._table = np.zeros((ROWS * CELL_SIZE, COLS * CELL_SIZE))\n",
    "\n",
    "    def __setitem__(self, key, value):\n",
    "        state, action = key\n",
    "        key_ = tuple((np.array(state) * CELL_SIZE) + 1 + np.array(action))\n",
    "        self._table[key_] = value\n",
    "\n",
    "    def __getitem__(self, key):\n",
    "        state, action = key\n",
    "        key_ = tuple((np.array(state) * CELL_SIZE) + 1 + np.array(action))\n",
    "        return self._table[key_]\n",
    "\n",
    "\n",
    "qf = GridWorldQFunction()\n",
    "agent = ExpectedSARSA(env.action_space, policy, qf)\n",
    "\n",
    "\n",
    "def show_value_function(qf):\n",
    "    np.set_printoptions(precision=4, linewidth=200)\n",
    "    plt.rcParams[\"figure.figsize\"] = (6, 6)\n",
    "    plt.matshow(qf._table)\n",
    "    plt.colorbar()\n",
    "    plt.show()\n",
    "\n",
    "    \n",
    "class Monitor(Callback):\n",
    "    def on_episode_begin(self, episode):\n",
    "        if episode % 10 == 0:\n",
    "            print('Episode {}'.format(episode))\n",
    "            show_value_function(qf)\n",
    "\n",
    "    def on_train_end(self, episode):\n",
    "        print('Episode {}'.format(episode))\n",
    "        show_value_function(qf)\n",
    "\n",
    "\n",
    "RLInteraction(env, agent).train(200, callbacks=[Monitor()])"
   ]
  },
  {
   "cell_type": "code",
   "execution_count": null,
   "metadata": {
    "collapsed": true
   },
   "outputs": [],
   "source": []
  }
 ],
 "metadata": {
  "kernelspec": {
   "display_name": "Python 3",
   "language": "python",
   "name": "python3"
  },
  "language_info": {
   "codemirror_mode": {
    "name": "ipython",
    "version": 3
   },
   "file_extension": ".py",
   "mimetype": "text/x-python",
   "name": "python",
   "nbconvert_exporter": "python",
   "pygments_lexer": "ipython3",
   "version": "3.6.5"
  }
 },
 "nbformat": 4,
 "nbformat_minor": 2
}
