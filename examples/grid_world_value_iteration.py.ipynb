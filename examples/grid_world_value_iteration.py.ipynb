{
 "cells": [
  {
   "cell_type": "code",
   "execution_count": 6,
   "metadata": {
    "collapsed": true
   },
   "outputs": [
    {
     "name": "stdout",
     "output_type": "stream",
     "text": [
      "Value Iteration started...\n",
      "Delta: 1.0000\n",
      "Delta: 0.9900\n",
      "Delta: 0.9801\n",
      "Delta: 0.9703\n",
      "Delta: 0.9606\n",
      "Delta: 0.9510\n",
      "Delta: 0.9415\n",
      "Delta: 0.9321\n",
      "Delta: 0.9227\n",
      "Delta: 0.9135\n",
      "Delta: 0.9044\n",
      "Delta: 0.8953\n",
      "Delta: 0.8864\n",
      "Delta: 0.8775\n",
      "Delta: 0.8687\n",
      "Delta: 0.8601\n",
      "Delta: 0.8515\n",
      "Delta: 0.8429\n",
      "Delta: 0.8345\n",
      "Delta: 0.8262\n",
      "Delta: 0.8179\n",
      "Delta: 0.8097\n",
      "Delta: 0.8016\n",
      "Delta: 0.7936\n",
      "Delta: 0.7857\n",
      "Delta: 0.7778\n",
      "Delta: 0.7700\n",
      "Delta: 0.7623\n",
      "Delta: 0.0000\n",
      "DP Value Iteration finished!\n"
     ]
    },
    {
     "data": {
      "text/plain": "<Figure size 432x288 with 2 Axes>",
      "image/png": "[encoded data removed]"
     },
     "metadata": {
      "needs_background": "light"
     },
     "output_type": "display_data"
    }
   ],
   "source": [
    "import matplotlib.pyplot as plt\n",
    "import numpy as np\n",
    "\n",
    "from myelin.dp import ValueIteration\n",
    "from myelin.mdps import GridWorld\n",
    "\n",
    "ROWS, COLS = 20, 20\n",
    "mdp = GridWorld(ROWS, COLS)\n",
    "vfunction = np.zeros((ROWS, COLS))\n",
    "vi = ValueIteration(mdp, theta=0.001, gamma=0.99, vfunction=vfunction)\n",
    "vi.learn()\n",
    "\n",
    "def display():\n",
    "    np.set_printoptions(precision=4, linewidth=200)\n",
    "    plt.pcolormesh(vfunction)\n",
    "    plt.colorbar()\n",
    "    plt.show()\n",
    "\n",
    "display()"
   ]
  }
 ],
 "metadata": {
  "kernelspec": {
   "display_name": "Python 3",
   "language": "python",
   "name": "python3"
  },
  "language_info": {
   "codemirror_mode": {
    "name": "ipython",
    "version": 2
   },
   "file_extension": ".py",
   "mimetype": "text/x-python",
   "name": "python",
   "nbconvert_exporter": "python",
   "pygments_lexer": "ipython2",
   "version": "2.7.6"
  }
 },
 "nbformat": 4,
 "nbformat_minor": 0
}